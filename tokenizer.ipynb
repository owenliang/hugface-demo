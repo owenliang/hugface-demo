{
 "cells": [
  {
   "cell_type": "code",
   "execution_count": 2,
   "metadata": {},
   "outputs": [],
   "source": [
    "from tokenizers import Tokenizer\n",
    "from tokenizers.models import BPE\n",
    "from tokenizers.pre_tokenizers import Whitespace"
   ]
  },
  {
   "cell_type": "code",
   "execution_count": 23,
   "metadata": {},
   "outputs": [
    {
     "name": "stdout",
     "output_type": "stream",
     "text": [
      "['[CLS]', '大', '家', '好', ',', '欢', '迎', '来', '到', '小', '鱼', '儿', 'tea', '##cher', '的', '直', '播', '间', '[SEP]']\n"
     ]
    }
   ],
   "source": [
    "tokenizer=Tokenizer.from_pretrained('bert-base-chinese')\n",
    "output=tokenizer.encode(\"大家好,欢迎来到小鱼儿teacher的直播间\")\n",
    "print(output.tokens)"
   ]
  },
  {
   "cell_type": "code",
   "execution_count": 33,
   "metadata": {},
   "outputs": [
    {
     "name": "stdout",
     "output_type": "stream",
     "text": [
      " 大  家  好 , 欢  迎  来  到  小  鱼  儿 teacher 的  直  播  间 \n"
     ]
    }
   ],
   "source": [
    "norm_str=tokenizer.normalizer.normalize_str('大家好,欢迎来到小鱼儿teacher的直播间')\n",
    "print(norm_str)"
   ]
  },
  {
   "cell_type": "code",
   "execution_count": 46,
   "metadata": {},
   "outputs": [
    {
     "name": "stdout",
     "output_type": "stream",
     "text": [
      "[('大', (1, 2)), ('家', (4, 5)), ('好', (7, 8)), (',', (9, 10)), ('欢', (11, 12)), ('迎', (14, 15)), ('来', (17, 18)), ('到', (20, 21)), ('小', (23, 24)), ('鱼', (26, 27)), ('儿', (29, 30)), ('teacher', (31, 38)), ('的', (39, 40)), ('直', (42, 43)), ('播', (45, 46)), ('间', (48, 49))]\n"
     ]
    }
   ],
   "source": [
    "tokens=tokenizer.pre_tokenizer.pre_tokenize_str(norm_str)\n",
    "print(tokens)"
   ]
  },
  {
   "cell_type": "code",
   "execution_count": 52,
   "metadata": {},
   "outputs": [
    {
     "name": "stdout",
     "output_type": "stream",
     "text": [
      "tea ##cher\n"
     ]
    }
   ],
   "source": [
    "#teacher\n",
    "teacher_tokens=tokenizer.model.tokenize(tokens[11][0])\n",
    "#print(dir(teacher_tokens[0]))\n",
    "print(teacher_tokens[0].value,teacher_tokens[1].value)"
   ]
  }
 ],
 "metadata": {
  "kernelspec": {
   "display_name": "base",
   "language": "python",
   "name": "python3"
  },
  "language_info": {
   "codemirror_mode": {
    "name": "ipython",
    "version": 3
   },
   "file_extension": ".py",
   "mimetype": "text/x-python",
   "name": "python",
   "nbconvert_exporter": "python",
   "pygments_lexer": "ipython3",
   "version": "3.9.16"
  },
  "orig_nbformat": 4
 },
 "nbformat": 4,
 "nbformat_minor": 2
}
